{
 "cells": [
  {
   "cell_type": "code",
   "execution_count": 2,
   "id": "04561af7",
   "metadata": {},
   "outputs": [],
   "source": [
    "import pandas as pd\n",
    "import requests\n",
    "from time import sleep\n",
    "from bs4 import BeautifulSoup "
   ]
  },
  {
   "cell_type": "code",
   "execution_count": 3,
   "id": "73c44c40",
   "metadata": {},
   "outputs": [],
   "source": [
    "url='https://wuzzuf.net/search/jobs/?a=navbl&q=&start='"
   ]
  },
  {
   "cell_type": "code",
   "execution_count": 4,
   "id": "381e7e0d",
   "metadata": {},
   "outputs": [
    {
     "ename": "ConnectionError",
     "evalue": "('Connection aborted.', RemoteDisconnected('Remote end closed connection without response'))",
     "output_type": "error",
     "traceback": [
      "\u001b[1;31m---------------------------------------------------------------------------\u001b[0m",
      "\u001b[1;31mRemoteDisconnected\u001b[0m                        Traceback (most recent call last)",
      "\u001b[1;32mC:\\ProgramData\\Anaconda3\\lib\\site-packages\\urllib3\\connectionpool.py\u001b[0m in \u001b[0;36murlopen\u001b[1;34m(self, method, url, body, headers, retries, redirect, assert_same_host, timeout, pool_timeout, release_conn, chunked, body_pos, **response_kw)\u001b[0m\n\u001b[0;32m    698\u001b[0m             \u001b[1;31m# Make the request on the httplib connection object.\u001b[0m\u001b[1;33m\u001b[0m\u001b[1;33m\u001b[0m\u001b[0m\n\u001b[1;32m--> 699\u001b[1;33m             httplib_response = self._make_request(\n\u001b[0m\u001b[0;32m    700\u001b[0m                 \u001b[0mconn\u001b[0m\u001b[1;33m,\u001b[0m\u001b[1;33m\u001b[0m\u001b[1;33m\u001b[0m\u001b[0m\n",
      "\u001b[1;32mC:\\ProgramData\\Anaconda3\\lib\\site-packages\\urllib3\\connectionpool.py\u001b[0m in \u001b[0;36m_make_request\u001b[1;34m(self, conn, method, url, timeout, chunked, **httplib_request_kw)\u001b[0m\n\u001b[0;32m    444\u001b[0m                     \u001b[1;31m# Otherwise it looks like a bug in the code.\u001b[0m\u001b[1;33m\u001b[0m\u001b[1;33m\u001b[0m\u001b[0m\n\u001b[1;32m--> 445\u001b[1;33m                     \u001b[0msix\u001b[0m\u001b[1;33m.\u001b[0m\u001b[0mraise_from\u001b[0m\u001b[1;33m(\u001b[0m\u001b[0me\u001b[0m\u001b[1;33m,\u001b[0m \u001b[1;32mNone\u001b[0m\u001b[1;33m)\u001b[0m\u001b[1;33m\u001b[0m\u001b[1;33m\u001b[0m\u001b[0m\n\u001b[0m\u001b[0;32m    446\u001b[0m         \u001b[1;32mexcept\u001b[0m \u001b[1;33m(\u001b[0m\u001b[0mSocketTimeout\u001b[0m\u001b[1;33m,\u001b[0m \u001b[0mBaseSSLError\u001b[0m\u001b[1;33m,\u001b[0m \u001b[0mSocketError\u001b[0m\u001b[1;33m)\u001b[0m \u001b[1;32mas\u001b[0m \u001b[0me\u001b[0m\u001b[1;33m:\u001b[0m\u001b[1;33m\u001b[0m\u001b[1;33m\u001b[0m\u001b[0m\n",
      "\u001b[1;32mC:\\ProgramData\\Anaconda3\\lib\\site-packages\\urllib3\\packages\\six.py\u001b[0m in \u001b[0;36mraise_from\u001b[1;34m(value, from_value)\u001b[0m\n",
      "\u001b[1;32mC:\\ProgramData\\Anaconda3\\lib\\site-packages\\urllib3\\connectionpool.py\u001b[0m in \u001b[0;36m_make_request\u001b[1;34m(self, conn, method, url, timeout, chunked, **httplib_request_kw)\u001b[0m\n\u001b[0;32m    439\u001b[0m                 \u001b[1;32mtry\u001b[0m\u001b[1;33m:\u001b[0m\u001b[1;33m\u001b[0m\u001b[1;33m\u001b[0m\u001b[0m\n\u001b[1;32m--> 440\u001b[1;33m                     \u001b[0mhttplib_response\u001b[0m \u001b[1;33m=\u001b[0m \u001b[0mconn\u001b[0m\u001b[1;33m.\u001b[0m\u001b[0mgetresponse\u001b[0m\u001b[1;33m(\u001b[0m\u001b[1;33m)\u001b[0m\u001b[1;33m\u001b[0m\u001b[1;33m\u001b[0m\u001b[0m\n\u001b[0m\u001b[0;32m    441\u001b[0m                 \u001b[1;32mexcept\u001b[0m \u001b[0mBaseException\u001b[0m \u001b[1;32mas\u001b[0m \u001b[0me\u001b[0m\u001b[1;33m:\u001b[0m\u001b[1;33m\u001b[0m\u001b[1;33m\u001b[0m\u001b[0m\n",
      "\u001b[1;32mC:\\ProgramData\\Anaconda3\\lib\\http\\client.py\u001b[0m in \u001b[0;36mgetresponse\u001b[1;34m(self)\u001b[0m\n\u001b[0;32m   1370\u001b[0m             \u001b[1;32mtry\u001b[0m\u001b[1;33m:\u001b[0m\u001b[1;33m\u001b[0m\u001b[1;33m\u001b[0m\u001b[0m\n\u001b[1;32m-> 1371\u001b[1;33m                 \u001b[0mresponse\u001b[0m\u001b[1;33m.\u001b[0m\u001b[0mbegin\u001b[0m\u001b[1;33m(\u001b[0m\u001b[1;33m)\u001b[0m\u001b[1;33m\u001b[0m\u001b[1;33m\u001b[0m\u001b[0m\n\u001b[0m\u001b[0;32m   1372\u001b[0m             \u001b[1;32mexcept\u001b[0m \u001b[0mConnectionError\u001b[0m\u001b[1;33m:\u001b[0m\u001b[1;33m\u001b[0m\u001b[1;33m\u001b[0m\u001b[0m\n",
      "\u001b[1;32mC:\\ProgramData\\Anaconda3\\lib\\http\\client.py\u001b[0m in \u001b[0;36mbegin\u001b[1;34m(self)\u001b[0m\n\u001b[0;32m    318\u001b[0m         \u001b[1;32mwhile\u001b[0m \u001b[1;32mTrue\u001b[0m\u001b[1;33m:\u001b[0m\u001b[1;33m\u001b[0m\u001b[1;33m\u001b[0m\u001b[0m\n\u001b[1;32m--> 319\u001b[1;33m             \u001b[0mversion\u001b[0m\u001b[1;33m,\u001b[0m \u001b[0mstatus\u001b[0m\u001b[1;33m,\u001b[0m \u001b[0mreason\u001b[0m \u001b[1;33m=\u001b[0m \u001b[0mself\u001b[0m\u001b[1;33m.\u001b[0m\u001b[0m_read_status\u001b[0m\u001b[1;33m(\u001b[0m\u001b[1;33m)\u001b[0m\u001b[1;33m\u001b[0m\u001b[1;33m\u001b[0m\u001b[0m\n\u001b[0m\u001b[0;32m    320\u001b[0m             \u001b[1;32mif\u001b[0m \u001b[0mstatus\u001b[0m \u001b[1;33m!=\u001b[0m \u001b[0mCONTINUE\u001b[0m\u001b[1;33m:\u001b[0m\u001b[1;33m\u001b[0m\u001b[1;33m\u001b[0m\u001b[0m\n",
      "\u001b[1;32mC:\\ProgramData\\Anaconda3\\lib\\http\\client.py\u001b[0m in \u001b[0;36m_read_status\u001b[1;34m(self)\u001b[0m\n\u001b[0;32m    287\u001b[0m             \u001b[1;31m# sending a valid response.\u001b[0m\u001b[1;33m\u001b[0m\u001b[1;33m\u001b[0m\u001b[0m\n\u001b[1;32m--> 288\u001b[1;33m             raise RemoteDisconnected(\"Remote end closed connection without\"\n\u001b[0m\u001b[0;32m    289\u001b[0m                                      \" response\")\n",
      "\u001b[1;31mRemoteDisconnected\u001b[0m: Remote end closed connection without response",
      "\nDuring handling of the above exception, another exception occurred:\n",
      "\u001b[1;31mProtocolError\u001b[0m                             Traceback (most recent call last)",
      "\u001b[1;32mC:\\ProgramData\\Anaconda3\\lib\\site-packages\\requests\\adapters.py\u001b[0m in \u001b[0;36msend\u001b[1;34m(self, request, stream, timeout, verify, cert, proxies)\u001b[0m\n\u001b[0;32m    438\u001b[0m             \u001b[1;32mif\u001b[0m \u001b[1;32mnot\u001b[0m \u001b[0mchunked\u001b[0m\u001b[1;33m:\u001b[0m\u001b[1;33m\u001b[0m\u001b[1;33m\u001b[0m\u001b[0m\n\u001b[1;32m--> 439\u001b[1;33m                 resp = conn.urlopen(\n\u001b[0m\u001b[0;32m    440\u001b[0m                     \u001b[0mmethod\u001b[0m\u001b[1;33m=\u001b[0m\u001b[0mrequest\u001b[0m\u001b[1;33m.\u001b[0m\u001b[0mmethod\u001b[0m\u001b[1;33m,\u001b[0m\u001b[1;33m\u001b[0m\u001b[1;33m\u001b[0m\u001b[0m\n",
      "\u001b[1;32mC:\\ProgramData\\Anaconda3\\lib\\site-packages\\urllib3\\connectionpool.py\u001b[0m in \u001b[0;36murlopen\u001b[1;34m(self, method, url, body, headers, retries, redirect, assert_same_host, timeout, pool_timeout, release_conn, chunked, body_pos, **response_kw)\u001b[0m\n\u001b[0;32m    754\u001b[0m \u001b[1;33m\u001b[0m\u001b[0m\n\u001b[1;32m--> 755\u001b[1;33m             retries = retries.increment(\n\u001b[0m\u001b[0;32m    756\u001b[0m                 \u001b[0mmethod\u001b[0m\u001b[1;33m,\u001b[0m \u001b[0murl\u001b[0m\u001b[1;33m,\u001b[0m \u001b[0merror\u001b[0m\u001b[1;33m=\u001b[0m\u001b[0me\u001b[0m\u001b[1;33m,\u001b[0m \u001b[0m_pool\u001b[0m\u001b[1;33m=\u001b[0m\u001b[0mself\u001b[0m\u001b[1;33m,\u001b[0m \u001b[0m_stacktrace\u001b[0m\u001b[1;33m=\u001b[0m\u001b[0msys\u001b[0m\u001b[1;33m.\u001b[0m\u001b[0mexc_info\u001b[0m\u001b[1;33m(\u001b[0m\u001b[1;33m)\u001b[0m\u001b[1;33m[\u001b[0m\u001b[1;36m2\u001b[0m\u001b[1;33m]\u001b[0m\u001b[1;33m\u001b[0m\u001b[1;33m\u001b[0m\u001b[0m\n",
      "\u001b[1;32mC:\\ProgramData\\Anaconda3\\lib\\site-packages\\urllib3\\util\\retry.py\u001b[0m in \u001b[0;36mincrement\u001b[1;34m(self, method, url, response, error, _pool, _stacktrace)\u001b[0m\n\u001b[0;32m    531\u001b[0m             \u001b[1;32mif\u001b[0m \u001b[0mread\u001b[0m \u001b[1;32mis\u001b[0m \u001b[1;32mFalse\u001b[0m \u001b[1;32mor\u001b[0m \u001b[1;32mnot\u001b[0m \u001b[0mself\u001b[0m\u001b[1;33m.\u001b[0m\u001b[0m_is_method_retryable\u001b[0m\u001b[1;33m(\u001b[0m\u001b[0mmethod\u001b[0m\u001b[1;33m)\u001b[0m\u001b[1;33m:\u001b[0m\u001b[1;33m\u001b[0m\u001b[1;33m\u001b[0m\u001b[0m\n\u001b[1;32m--> 532\u001b[1;33m                 \u001b[1;32mraise\u001b[0m \u001b[0msix\u001b[0m\u001b[1;33m.\u001b[0m\u001b[0mreraise\u001b[0m\u001b[1;33m(\u001b[0m\u001b[0mtype\u001b[0m\u001b[1;33m(\u001b[0m\u001b[0merror\u001b[0m\u001b[1;33m)\u001b[0m\u001b[1;33m,\u001b[0m \u001b[0merror\u001b[0m\u001b[1;33m,\u001b[0m \u001b[0m_stacktrace\u001b[0m\u001b[1;33m)\u001b[0m\u001b[1;33m\u001b[0m\u001b[1;33m\u001b[0m\u001b[0m\n\u001b[0m\u001b[0;32m    533\u001b[0m             \u001b[1;32melif\u001b[0m \u001b[0mread\u001b[0m \u001b[1;32mis\u001b[0m \u001b[1;32mnot\u001b[0m \u001b[1;32mNone\u001b[0m\u001b[1;33m:\u001b[0m\u001b[1;33m\u001b[0m\u001b[1;33m\u001b[0m\u001b[0m\n",
      "\u001b[1;32mC:\\ProgramData\\Anaconda3\\lib\\site-packages\\urllib3\\packages\\six.py\u001b[0m in \u001b[0;36mreraise\u001b[1;34m(tp, value, tb)\u001b[0m\n\u001b[0;32m    768\u001b[0m             \u001b[1;32mif\u001b[0m \u001b[0mvalue\u001b[0m\u001b[1;33m.\u001b[0m\u001b[0m__traceback__\u001b[0m \u001b[1;32mis\u001b[0m \u001b[1;32mnot\u001b[0m \u001b[0mtb\u001b[0m\u001b[1;33m:\u001b[0m\u001b[1;33m\u001b[0m\u001b[1;33m\u001b[0m\u001b[0m\n\u001b[1;32m--> 769\u001b[1;33m                 \u001b[1;32mraise\u001b[0m \u001b[0mvalue\u001b[0m\u001b[1;33m.\u001b[0m\u001b[0mwith_traceback\u001b[0m\u001b[1;33m(\u001b[0m\u001b[0mtb\u001b[0m\u001b[1;33m)\u001b[0m\u001b[1;33m\u001b[0m\u001b[1;33m\u001b[0m\u001b[0m\n\u001b[0m\u001b[0;32m    770\u001b[0m             \u001b[1;32mraise\u001b[0m \u001b[0mvalue\u001b[0m\u001b[1;33m\u001b[0m\u001b[1;33m\u001b[0m\u001b[0m\n",
      "\u001b[1;32mC:\\ProgramData\\Anaconda3\\lib\\site-packages\\urllib3\\connectionpool.py\u001b[0m in \u001b[0;36murlopen\u001b[1;34m(self, method, url, body, headers, retries, redirect, assert_same_host, timeout, pool_timeout, release_conn, chunked, body_pos, **response_kw)\u001b[0m\n\u001b[0;32m    698\u001b[0m             \u001b[1;31m# Make the request on the httplib connection object.\u001b[0m\u001b[1;33m\u001b[0m\u001b[1;33m\u001b[0m\u001b[0m\n\u001b[1;32m--> 699\u001b[1;33m             httplib_response = self._make_request(\n\u001b[0m\u001b[0;32m    700\u001b[0m                 \u001b[0mconn\u001b[0m\u001b[1;33m,\u001b[0m\u001b[1;33m\u001b[0m\u001b[1;33m\u001b[0m\u001b[0m\n",
      "\u001b[1;32mC:\\ProgramData\\Anaconda3\\lib\\site-packages\\urllib3\\connectionpool.py\u001b[0m in \u001b[0;36m_make_request\u001b[1;34m(self, conn, method, url, timeout, chunked, **httplib_request_kw)\u001b[0m\n\u001b[0;32m    444\u001b[0m                     \u001b[1;31m# Otherwise it looks like a bug in the code.\u001b[0m\u001b[1;33m\u001b[0m\u001b[1;33m\u001b[0m\u001b[0m\n\u001b[1;32m--> 445\u001b[1;33m                     \u001b[0msix\u001b[0m\u001b[1;33m.\u001b[0m\u001b[0mraise_from\u001b[0m\u001b[1;33m(\u001b[0m\u001b[0me\u001b[0m\u001b[1;33m,\u001b[0m \u001b[1;32mNone\u001b[0m\u001b[1;33m)\u001b[0m\u001b[1;33m\u001b[0m\u001b[1;33m\u001b[0m\u001b[0m\n\u001b[0m\u001b[0;32m    446\u001b[0m         \u001b[1;32mexcept\u001b[0m \u001b[1;33m(\u001b[0m\u001b[0mSocketTimeout\u001b[0m\u001b[1;33m,\u001b[0m \u001b[0mBaseSSLError\u001b[0m\u001b[1;33m,\u001b[0m \u001b[0mSocketError\u001b[0m\u001b[1;33m)\u001b[0m \u001b[1;32mas\u001b[0m \u001b[0me\u001b[0m\u001b[1;33m:\u001b[0m\u001b[1;33m\u001b[0m\u001b[1;33m\u001b[0m\u001b[0m\n",
      "\u001b[1;32mC:\\ProgramData\\Anaconda3\\lib\\site-packages\\urllib3\\packages\\six.py\u001b[0m in \u001b[0;36mraise_from\u001b[1;34m(value, from_value)\u001b[0m\n",
      "\u001b[1;32mC:\\ProgramData\\Anaconda3\\lib\\site-packages\\urllib3\\connectionpool.py\u001b[0m in \u001b[0;36m_make_request\u001b[1;34m(self, conn, method, url, timeout, chunked, **httplib_request_kw)\u001b[0m\n\u001b[0;32m    439\u001b[0m                 \u001b[1;32mtry\u001b[0m\u001b[1;33m:\u001b[0m\u001b[1;33m\u001b[0m\u001b[1;33m\u001b[0m\u001b[0m\n\u001b[1;32m--> 440\u001b[1;33m                     \u001b[0mhttplib_response\u001b[0m \u001b[1;33m=\u001b[0m \u001b[0mconn\u001b[0m\u001b[1;33m.\u001b[0m\u001b[0mgetresponse\u001b[0m\u001b[1;33m(\u001b[0m\u001b[1;33m)\u001b[0m\u001b[1;33m\u001b[0m\u001b[1;33m\u001b[0m\u001b[0m\n\u001b[0m\u001b[0;32m    441\u001b[0m                 \u001b[1;32mexcept\u001b[0m \u001b[0mBaseException\u001b[0m \u001b[1;32mas\u001b[0m \u001b[0me\u001b[0m\u001b[1;33m:\u001b[0m\u001b[1;33m\u001b[0m\u001b[1;33m\u001b[0m\u001b[0m\n",
      "\u001b[1;32mC:\\ProgramData\\Anaconda3\\lib\\http\\client.py\u001b[0m in \u001b[0;36mgetresponse\u001b[1;34m(self)\u001b[0m\n\u001b[0;32m   1370\u001b[0m             \u001b[1;32mtry\u001b[0m\u001b[1;33m:\u001b[0m\u001b[1;33m\u001b[0m\u001b[1;33m\u001b[0m\u001b[0m\n\u001b[1;32m-> 1371\u001b[1;33m                 \u001b[0mresponse\u001b[0m\u001b[1;33m.\u001b[0m\u001b[0mbegin\u001b[0m\u001b[1;33m(\u001b[0m\u001b[1;33m)\u001b[0m\u001b[1;33m\u001b[0m\u001b[1;33m\u001b[0m\u001b[0m\n\u001b[0m\u001b[0;32m   1372\u001b[0m             \u001b[1;32mexcept\u001b[0m \u001b[0mConnectionError\u001b[0m\u001b[1;33m:\u001b[0m\u001b[1;33m\u001b[0m\u001b[1;33m\u001b[0m\u001b[0m\n",
      "\u001b[1;32mC:\\ProgramData\\Anaconda3\\lib\\http\\client.py\u001b[0m in \u001b[0;36mbegin\u001b[1;34m(self)\u001b[0m\n\u001b[0;32m    318\u001b[0m         \u001b[1;32mwhile\u001b[0m \u001b[1;32mTrue\u001b[0m\u001b[1;33m:\u001b[0m\u001b[1;33m\u001b[0m\u001b[1;33m\u001b[0m\u001b[0m\n\u001b[1;32m--> 319\u001b[1;33m             \u001b[0mversion\u001b[0m\u001b[1;33m,\u001b[0m \u001b[0mstatus\u001b[0m\u001b[1;33m,\u001b[0m \u001b[0mreason\u001b[0m \u001b[1;33m=\u001b[0m \u001b[0mself\u001b[0m\u001b[1;33m.\u001b[0m\u001b[0m_read_status\u001b[0m\u001b[1;33m(\u001b[0m\u001b[1;33m)\u001b[0m\u001b[1;33m\u001b[0m\u001b[1;33m\u001b[0m\u001b[0m\n\u001b[0m\u001b[0;32m    320\u001b[0m             \u001b[1;32mif\u001b[0m \u001b[0mstatus\u001b[0m \u001b[1;33m!=\u001b[0m \u001b[0mCONTINUE\u001b[0m\u001b[1;33m:\u001b[0m\u001b[1;33m\u001b[0m\u001b[1;33m\u001b[0m\u001b[0m\n",
      "\u001b[1;32mC:\\ProgramData\\Anaconda3\\lib\\http\\client.py\u001b[0m in \u001b[0;36m_read_status\u001b[1;34m(self)\u001b[0m\n\u001b[0;32m    287\u001b[0m             \u001b[1;31m# sending a valid response.\u001b[0m\u001b[1;33m\u001b[0m\u001b[1;33m\u001b[0m\u001b[0m\n\u001b[1;32m--> 288\u001b[1;33m             raise RemoteDisconnected(\"Remote end closed connection without\"\n\u001b[0m\u001b[0;32m    289\u001b[0m                                      \" response\")\n",
      "\u001b[1;31mProtocolError\u001b[0m: ('Connection aborted.', RemoteDisconnected('Remote end closed connection without response'))",
      "\nDuring handling of the above exception, another exception occurred:\n",
      "\u001b[1;31mConnectionError\u001b[0m                           Traceback (most recent call last)",
      "\u001b[1;32m~\\AppData\\Local\\Temp/ipykernel_3504/1495829130.py\u001b[0m in \u001b[0;36m<module>\u001b[1;34m\u001b[0m\n\u001b[0;32m      8\u001b[0m \u001b[1;33m\u001b[0m\u001b[0m\n\u001b[0;32m      9\u001b[0m \u001b[1;32mfor\u001b[0m \u001b[0mi\u001b[0m \u001b[1;32min\u001b[0m \u001b[0mrange\u001b[0m\u001b[1;33m(\u001b[0m\u001b[1;36m589\u001b[0m\u001b[1;33m)\u001b[0m\u001b[1;33m:\u001b[0m\u001b[1;33m\u001b[0m\u001b[1;33m\u001b[0m\u001b[0m\n\u001b[1;32m---> 10\u001b[1;33m     \u001b[0mpage\u001b[0m\u001b[1;33m=\u001b[0m\u001b[0mrequests\u001b[0m\u001b[1;33m.\u001b[0m\u001b[0mget\u001b[0m\u001b[1;33m(\u001b[0m\u001b[0murl\u001b[0m\u001b[1;33m+\u001b[0m\u001b[0mstr\u001b[0m\u001b[1;33m(\u001b[0m\u001b[0mi\u001b[0m\u001b[1;33m)\u001b[0m\u001b[1;33m)\u001b[0m\u001b[1;33m\u001b[0m\u001b[1;33m\u001b[0m\u001b[0m\n\u001b[0m\u001b[0;32m     11\u001b[0m     \u001b[0msoup\u001b[0m\u001b[1;33m=\u001b[0m\u001b[0mBeautifulSoup\u001b[0m\u001b[1;33m(\u001b[0m\u001b[0mpage\u001b[0m\u001b[1;33m.\u001b[0m\u001b[0mcontent\u001b[0m\u001b[1;33m,\u001b[0m\u001b[1;34m'html.parser'\u001b[0m\u001b[1;33m)\u001b[0m\u001b[1;33m\u001b[0m\u001b[1;33m\u001b[0m\u001b[0m\n\u001b[0;32m     12\u001b[0m \u001b[1;33m\u001b[0m\u001b[0m\n",
      "\u001b[1;32mC:\\ProgramData\\Anaconda3\\lib\\site-packages\\requests\\api.py\u001b[0m in \u001b[0;36mget\u001b[1;34m(url, params, **kwargs)\u001b[0m\n\u001b[0;32m     73\u001b[0m     \"\"\"\n\u001b[0;32m     74\u001b[0m \u001b[1;33m\u001b[0m\u001b[0m\n\u001b[1;32m---> 75\u001b[1;33m     \u001b[1;32mreturn\u001b[0m \u001b[0mrequest\u001b[0m\u001b[1;33m(\u001b[0m\u001b[1;34m'get'\u001b[0m\u001b[1;33m,\u001b[0m \u001b[0murl\u001b[0m\u001b[1;33m,\u001b[0m \u001b[0mparams\u001b[0m\u001b[1;33m=\u001b[0m\u001b[0mparams\u001b[0m\u001b[1;33m,\u001b[0m \u001b[1;33m**\u001b[0m\u001b[0mkwargs\u001b[0m\u001b[1;33m)\u001b[0m\u001b[1;33m\u001b[0m\u001b[1;33m\u001b[0m\u001b[0m\n\u001b[0m\u001b[0;32m     76\u001b[0m \u001b[1;33m\u001b[0m\u001b[0m\n\u001b[0;32m     77\u001b[0m \u001b[1;33m\u001b[0m\u001b[0m\n",
      "\u001b[1;32mC:\\ProgramData\\Anaconda3\\lib\\site-packages\\requests\\api.py\u001b[0m in \u001b[0;36mrequest\u001b[1;34m(method, url, **kwargs)\u001b[0m\n\u001b[0;32m     59\u001b[0m     \u001b[1;31m# cases, and look like a memory leak in others.\u001b[0m\u001b[1;33m\u001b[0m\u001b[1;33m\u001b[0m\u001b[0m\n\u001b[0;32m     60\u001b[0m     \u001b[1;32mwith\u001b[0m \u001b[0msessions\u001b[0m\u001b[1;33m.\u001b[0m\u001b[0mSession\u001b[0m\u001b[1;33m(\u001b[0m\u001b[1;33m)\u001b[0m \u001b[1;32mas\u001b[0m \u001b[0msession\u001b[0m\u001b[1;33m:\u001b[0m\u001b[1;33m\u001b[0m\u001b[1;33m\u001b[0m\u001b[0m\n\u001b[1;32m---> 61\u001b[1;33m         \u001b[1;32mreturn\u001b[0m \u001b[0msession\u001b[0m\u001b[1;33m.\u001b[0m\u001b[0mrequest\u001b[0m\u001b[1;33m(\u001b[0m\u001b[0mmethod\u001b[0m\u001b[1;33m=\u001b[0m\u001b[0mmethod\u001b[0m\u001b[1;33m,\u001b[0m \u001b[0murl\u001b[0m\u001b[1;33m=\u001b[0m\u001b[0murl\u001b[0m\u001b[1;33m,\u001b[0m \u001b[1;33m**\u001b[0m\u001b[0mkwargs\u001b[0m\u001b[1;33m)\u001b[0m\u001b[1;33m\u001b[0m\u001b[1;33m\u001b[0m\u001b[0m\n\u001b[0m\u001b[0;32m     62\u001b[0m \u001b[1;33m\u001b[0m\u001b[0m\n\u001b[0;32m     63\u001b[0m \u001b[1;33m\u001b[0m\u001b[0m\n",
      "\u001b[1;32mC:\\ProgramData\\Anaconda3\\lib\\site-packages\\requests\\sessions.py\u001b[0m in \u001b[0;36mrequest\u001b[1;34m(self, method, url, params, data, headers, cookies, files, auth, timeout, allow_redirects, proxies, hooks, stream, verify, cert, json)\u001b[0m\n\u001b[0;32m    540\u001b[0m         }\n\u001b[0;32m    541\u001b[0m         \u001b[0msend_kwargs\u001b[0m\u001b[1;33m.\u001b[0m\u001b[0mupdate\u001b[0m\u001b[1;33m(\u001b[0m\u001b[0msettings\u001b[0m\u001b[1;33m)\u001b[0m\u001b[1;33m\u001b[0m\u001b[1;33m\u001b[0m\u001b[0m\n\u001b[1;32m--> 542\u001b[1;33m         \u001b[0mresp\u001b[0m \u001b[1;33m=\u001b[0m \u001b[0mself\u001b[0m\u001b[1;33m.\u001b[0m\u001b[0msend\u001b[0m\u001b[1;33m(\u001b[0m\u001b[0mprep\u001b[0m\u001b[1;33m,\u001b[0m \u001b[1;33m**\u001b[0m\u001b[0msend_kwargs\u001b[0m\u001b[1;33m)\u001b[0m\u001b[1;33m\u001b[0m\u001b[1;33m\u001b[0m\u001b[0m\n\u001b[0m\u001b[0;32m    543\u001b[0m \u001b[1;33m\u001b[0m\u001b[0m\n\u001b[0;32m    544\u001b[0m         \u001b[1;32mreturn\u001b[0m \u001b[0mresp\u001b[0m\u001b[1;33m\u001b[0m\u001b[1;33m\u001b[0m\u001b[0m\n",
      "\u001b[1;32mC:\\ProgramData\\Anaconda3\\lib\\site-packages\\requests\\sessions.py\u001b[0m in \u001b[0;36msend\u001b[1;34m(self, request, **kwargs)\u001b[0m\n\u001b[0;32m    653\u001b[0m \u001b[1;33m\u001b[0m\u001b[0m\n\u001b[0;32m    654\u001b[0m         \u001b[1;31m# Send the request\u001b[0m\u001b[1;33m\u001b[0m\u001b[1;33m\u001b[0m\u001b[0m\n\u001b[1;32m--> 655\u001b[1;33m         \u001b[0mr\u001b[0m \u001b[1;33m=\u001b[0m \u001b[0madapter\u001b[0m\u001b[1;33m.\u001b[0m\u001b[0msend\u001b[0m\u001b[1;33m(\u001b[0m\u001b[0mrequest\u001b[0m\u001b[1;33m,\u001b[0m \u001b[1;33m**\u001b[0m\u001b[0mkwargs\u001b[0m\u001b[1;33m)\u001b[0m\u001b[1;33m\u001b[0m\u001b[1;33m\u001b[0m\u001b[0m\n\u001b[0m\u001b[0;32m    656\u001b[0m \u001b[1;33m\u001b[0m\u001b[0m\n\u001b[0;32m    657\u001b[0m         \u001b[1;31m# Total elapsed time of the request (approximately)\u001b[0m\u001b[1;33m\u001b[0m\u001b[1;33m\u001b[0m\u001b[0m\n",
      "\u001b[1;32mC:\\ProgramData\\Anaconda3\\lib\\site-packages\\requests\\adapters.py\u001b[0m in \u001b[0;36msend\u001b[1;34m(self, request, stream, timeout, verify, cert, proxies)\u001b[0m\n\u001b[0;32m    496\u001b[0m \u001b[1;33m\u001b[0m\u001b[0m\n\u001b[0;32m    497\u001b[0m         \u001b[1;32mexcept\u001b[0m \u001b[1;33m(\u001b[0m\u001b[0mProtocolError\u001b[0m\u001b[1;33m,\u001b[0m \u001b[0msocket\u001b[0m\u001b[1;33m.\u001b[0m\u001b[0merror\u001b[0m\u001b[1;33m)\u001b[0m \u001b[1;32mas\u001b[0m \u001b[0merr\u001b[0m\u001b[1;33m:\u001b[0m\u001b[1;33m\u001b[0m\u001b[1;33m\u001b[0m\u001b[0m\n\u001b[1;32m--> 498\u001b[1;33m             \u001b[1;32mraise\u001b[0m \u001b[0mConnectionError\u001b[0m\u001b[1;33m(\u001b[0m\u001b[0merr\u001b[0m\u001b[1;33m,\u001b[0m \u001b[0mrequest\u001b[0m\u001b[1;33m=\u001b[0m\u001b[0mrequest\u001b[0m\u001b[1;33m)\u001b[0m\u001b[1;33m\u001b[0m\u001b[1;33m\u001b[0m\u001b[0m\n\u001b[0m\u001b[0;32m    499\u001b[0m \u001b[1;33m\u001b[0m\u001b[0m\n\u001b[0;32m    500\u001b[0m         \u001b[1;32mexcept\u001b[0m \u001b[0mMaxRetryError\u001b[0m \u001b[1;32mas\u001b[0m \u001b[0me\u001b[0m\u001b[1;33m:\u001b[0m\u001b[1;33m\u001b[0m\u001b[1;33m\u001b[0m\u001b[0m\n",
      "\u001b[1;31mConnectionError\u001b[0m: ('Connection aborted.', RemoteDisconnected('Remote end closed connection without response'))"
     ]
    }
   ],
   "source": [
    "job=[]\n",
    "company=[]\n",
    "job_type=[]\n",
    "skills=[]\n",
    "address=[]\n",
    "company_url=[]\n",
    "job_link=[]\n",
    "\n",
    "for i in range(589):\n",
    "    page=requests.get(url+str(i))\n",
    "    soup=BeautifulSoup(page.content,'html.parser')\n",
    "\n",
    "    job_title=soup.find_all('a',class_='css-o171kl')\n",
    "    company_name=soup.find_all('a',class_='css-17s97q8')\n",
    "    company_address=soup.find_all('span',class_='css-5wys0k')\n",
    "    Type=soup.find_all('span',class_='css-1ve4b75 eoyjyou0')\n",
    "    skill=soup.find_all('div',class_='css-y4udm8')\n",
    "    j_link=soup.find_all('h2',class_='css-m604qf')\n",
    "    co_url=soup.find_all('div',class_='css-d7j1kk')\n",
    "    for (a,b,c,d,e,i,j) in zip(job_title,company_name,Type,skill,company_address,co_url,j_link):\n",
    "        job.append(a.text.strip())\n",
    "        company.append(b.text)\n",
    "        job_type.append(c.text)\n",
    "        skills.append(d.text)\n",
    "        address.append(e.text)\n",
    "        u1 = i.find('a').get('href')\n",
    "        company_url.append(u1)\n",
    "        u2=j.find('a').get('href')\n",
    "        u2='https://wuzzuf.net'+u2\n",
    "        job_link.append(u2)         \n",
    "        \n",
    "        "
   ]
  },
  {
   "cell_type": "code",
   "execution_count": 5,
   "id": "fe724877",
   "metadata": {},
   "outputs": [
    {
     "data": {
      "text/html": [
       "<div>\n",
       "<style scoped>\n",
       "    .dataframe tbody tr th:only-of-type {\n",
       "        vertical-align: middle;\n",
       "    }\n",
       "\n",
       "    .dataframe tbody tr th {\n",
       "        vertical-align: top;\n",
       "    }\n",
       "\n",
       "    .dataframe thead th {\n",
       "        text-align: right;\n",
       "    }\n",
       "</style>\n",
       "<table border=\"1\" class=\"dataframe\">\n",
       "  <thead>\n",
       "    <tr style=\"text-align: right;\">\n",
       "      <th></th>\n",
       "      <th>Job Title</th>\n",
       "      <th>Company Name</th>\n",
       "      <th>Address</th>\n",
       "      <th>Skills</th>\n",
       "      <th>Job Type</th>\n",
       "      <th>Job URL</th>\n",
       "      <th>Company URL</th>\n",
       "    </tr>\n",
       "  </thead>\n",
       "  <tbody>\n",
       "    <tr>\n",
       "      <th>0</th>\n",
       "      <td>Recruitment Specialist (Mass Hiring)</td>\n",
       "      <td>Etisalat Egypt -</td>\n",
       "      <td>Maadi, Cairo, Egypt</td>\n",
       "      <td>Full TimeEntry Level · 1 - 2 Yrs of Exp · Huma...</td>\n",
       "      <td>Full Time</td>\n",
       "      <td>https://wuzzuf.net/jobs/p/8ZDXtmNipWv7-Recruit...</td>\n",
       "      <td>https://wuzzuf.net/jobs/careers/Etisalat-Misr-...</td>\n",
       "    </tr>\n",
       "    <tr>\n",
       "      <th>1</th>\n",
       "      <td>Entry Level</td>\n",
       "      <td>Arrow Digital Transformation -</td>\n",
       "      <td>Nasr City, Cairo, Egypt</td>\n",
       "      <td>Full TimeManager · 5 - 7 Yrs of Exp · Business...</td>\n",
       "      <td>Full Time</td>\n",
       "      <td>https://wuzzuf.net/jobs/p/pf8pXQ425AUM-Digital...</td>\n",
       "      <td>https://wuzzuf.net/jobs/careers/Arrow Digital ...</td>\n",
       "    </tr>\n",
       "    <tr>\n",
       "      <th>2</th>\n",
       "      <td>· Human Resources</td>\n",
       "      <td>Turning Point for Consultancies and Development -</td>\n",
       "      <td>Cairo, Egypt</td>\n",
       "      <td>Part TimeFreelance / ProjectExperienced · 5 - ...</td>\n",
       "      <td>Part Time</td>\n",
       "      <td>https://wuzzuf.net/jobs/p/z6hCJ1gCFeKs-Micro-F...</td>\n",
       "      <td>https://wuzzuf.net/jobs/careers/co-Egypt-33542</td>\n",
       "    </tr>\n",
       "    <tr>\n",
       "      <th>3</th>\n",
       "      <td>Digital Transformation Sales Manager</td>\n",
       "      <td>Trevor Sadd Associates -</td>\n",
       "      <td>Cairo, Egypt</td>\n",
       "      <td>Full TimeFreelance / ProjectWork From HomeEntr...</td>\n",
       "      <td>Freelance / Project</td>\n",
       "      <td>https://wuzzuf.net/jobs/p/Zm9mKXt1NVWs-Process...</td>\n",
       "      <td>https://wuzzuf.net/jobs/careers/Trevor-Sadd-As...</td>\n",
       "    </tr>\n",
       "    <tr>\n",
       "      <th>4</th>\n",
       "      <td>Manager</td>\n",
       "      <td>HTH -</td>\n",
       "      <td>Heliopolis, Cairo, Egypt</td>\n",
       "      <td>Full TimeExperienced · 3 - 5 Yrs of Exp · Acco...</td>\n",
       "      <td>Full Time</td>\n",
       "      <td>https://wuzzuf.net/jobs/p/rr7nr0rgkWhN-Tax-Pro...</td>\n",
       "      <td>https://wuzzuf.net/jobs/careers/Cordoba-for-Re...</td>\n",
       "    </tr>\n",
       "    <tr>\n",
       "      <th>...</th>\n",
       "      <td>...</td>\n",
       "      <td>...</td>\n",
       "      <td>...</td>\n",
       "      <td>...</td>\n",
       "      <td>...</td>\n",
       "      <td>...</td>\n",
       "      <td>...</td>\n",
       "    </tr>\n",
       "    <tr>\n",
       "      <th>8530</th>\n",
       "      <td>IT Specialist</td>\n",
       "      <td>Confidential -</td>\n",
       "      <td>Nasr City, Cairo, Egypt</td>\n",
       "      <td>Full TimeManager · 6 - 15 Yrs of Exp · Logisti...</td>\n",
       "      <td>Full Time</td>\n",
       "      <td>https://wuzzuf.net/jobs/p/Squ8jaA9zcca-Operati...</td>\n",
       "      <td>None</td>\n",
       "    </tr>\n",
       "    <tr>\n",
       "      <th>8531</th>\n",
       "      <td>Experienced</td>\n",
       "      <td>Akhnaton for Trading &amp; Distributing  -</td>\n",
       "      <td>Cairo, Egypt</td>\n",
       "      <td>Full TimeEntry Level · 0 - 2 Yrs of Exp · Sale...</td>\n",
       "      <td>Full Time</td>\n",
       "      <td>https://wuzzuf.net/jobs/p/dCMcyOaTaeh4-Sales-D...</td>\n",
       "      <td>https://wuzzuf.net/jobs/careers/Akhnaton-for-T...</td>\n",
       "    </tr>\n",
       "    <tr>\n",
       "      <th>8532</th>\n",
       "      <td>· Installation/Maintenance/Repair</td>\n",
       "      <td>CROCOSOFT -</td>\n",
       "      <td>New Cairo, Cairo, Egypt</td>\n",
       "      <td>Full TimeWork From HomeExperienced · 2 - 7 Yrs...</td>\n",
       "      <td>Full Time</td>\n",
       "      <td>https://wuzzuf.net/jobs/p/uMtkocYzGZey-Senior-...</td>\n",
       "      <td>https://wuzzuf.net/jobs/careers/CROCOSOFT-Egyp...</td>\n",
       "    </tr>\n",
       "    <tr>\n",
       "      <th>8533</th>\n",
       "      <td>· IT/Software Development</td>\n",
       "      <td>Giza Systems -</td>\n",
       "      <td>Cairo, Egypt</td>\n",
       "      <td>Full TimeManager · 15+ Yrs of Exp · IT/Softwar...</td>\n",
       "      <td>Full Time</td>\n",
       "      <td>https://wuzzuf.net/jobs/p/BLclT1RZCy6L-DX-Prog...</td>\n",
       "      <td>https://wuzzuf.net/jobs/careers/Giza-Systems-E...</td>\n",
       "    </tr>\n",
       "    <tr>\n",
       "      <th>8534</th>\n",
       "      <td>· Engineering - Telecom/Technology</td>\n",
       "      <td>Giza Systems -</td>\n",
       "      <td>Cairo, Egypt</td>\n",
       "      <td>Full TimeExperienced · 7+ Yrs of Exp · IT/Soft...</td>\n",
       "      <td>Work From Home</td>\n",
       "      <td>https://wuzzuf.net/jobs/p/UHYvAj1At0wm-Senior-...</td>\n",
       "      <td>https://wuzzuf.net/jobs/careers/Giza-Systems-E...</td>\n",
       "    </tr>\n",
       "  </tbody>\n",
       "</table>\n",
       "<p>8535 rows × 7 columns</p>\n",
       "</div>"
      ],
      "text/plain": [
       "                                 Job Title  \\\n",
       "0     Recruitment Specialist (Mass Hiring)   \n",
       "1                              Entry Level   \n",
       "2                        · Human Resources   \n",
       "3     Digital Transformation Sales Manager   \n",
       "4                                  Manager   \n",
       "...                                    ...   \n",
       "8530                         IT Specialist   \n",
       "8531                           Experienced   \n",
       "8532     · Installation/Maintenance/Repair   \n",
       "8533             · IT/Software Development   \n",
       "8534    · Engineering - Telecom/Technology   \n",
       "\n",
       "                                           Company Name  \\\n",
       "0                                      Etisalat Egypt -   \n",
       "1                        Arrow Digital Transformation -   \n",
       "2     Turning Point for Consultancies and Development -   \n",
       "3                              Trevor Sadd Associates -   \n",
       "4                                                 HTH -   \n",
       "...                                                 ...   \n",
       "8530                                     Confidential -   \n",
       "8531             Akhnaton for Trading & Distributing  -   \n",
       "8532                                        CROCOSOFT -   \n",
       "8533                                     Giza Systems -   \n",
       "8534                                     Giza Systems -   \n",
       "\n",
       "                        Address  \\\n",
       "0          Maadi, Cairo, Egypt    \n",
       "1      Nasr City, Cairo, Egypt    \n",
       "2                 Cairo, Egypt    \n",
       "3                 Cairo, Egypt    \n",
       "4     Heliopolis, Cairo, Egypt    \n",
       "...                         ...   \n",
       "8530   Nasr City, Cairo, Egypt    \n",
       "8531              Cairo, Egypt    \n",
       "8532   New Cairo, Cairo, Egypt    \n",
       "8533              Cairo, Egypt    \n",
       "8534              Cairo, Egypt    \n",
       "\n",
       "                                                 Skills             Job Type  \\\n",
       "0     Full TimeEntry Level · 1 - 2 Yrs of Exp · Huma...            Full Time   \n",
       "1     Full TimeManager · 5 - 7 Yrs of Exp · Business...            Full Time   \n",
       "2     Part TimeFreelance / ProjectExperienced · 5 - ...            Part Time   \n",
       "3     Full TimeFreelance / ProjectWork From HomeEntr...  Freelance / Project   \n",
       "4     Full TimeExperienced · 3 - 5 Yrs of Exp · Acco...            Full Time   \n",
       "...                                                 ...                  ...   \n",
       "8530  Full TimeManager · 6 - 15 Yrs of Exp · Logisti...            Full Time   \n",
       "8531  Full TimeEntry Level · 0 - 2 Yrs of Exp · Sale...            Full Time   \n",
       "8532  Full TimeWork From HomeExperienced · 2 - 7 Yrs...            Full Time   \n",
       "8533  Full TimeManager · 15+ Yrs of Exp · IT/Softwar...            Full Time   \n",
       "8534  Full TimeExperienced · 7+ Yrs of Exp · IT/Soft...       Work From Home   \n",
       "\n",
       "                                                Job URL  \\\n",
       "0     https://wuzzuf.net/jobs/p/8ZDXtmNipWv7-Recruit...   \n",
       "1     https://wuzzuf.net/jobs/p/pf8pXQ425AUM-Digital...   \n",
       "2     https://wuzzuf.net/jobs/p/z6hCJ1gCFeKs-Micro-F...   \n",
       "3     https://wuzzuf.net/jobs/p/Zm9mKXt1NVWs-Process...   \n",
       "4     https://wuzzuf.net/jobs/p/rr7nr0rgkWhN-Tax-Pro...   \n",
       "...                                                 ...   \n",
       "8530  https://wuzzuf.net/jobs/p/Squ8jaA9zcca-Operati...   \n",
       "8531  https://wuzzuf.net/jobs/p/dCMcyOaTaeh4-Sales-D...   \n",
       "8532  https://wuzzuf.net/jobs/p/uMtkocYzGZey-Senior-...   \n",
       "8533  https://wuzzuf.net/jobs/p/BLclT1RZCy6L-DX-Prog...   \n",
       "8534  https://wuzzuf.net/jobs/p/UHYvAj1At0wm-Senior-...   \n",
       "\n",
       "                                            Company URL  \n",
       "0     https://wuzzuf.net/jobs/careers/Etisalat-Misr-...  \n",
       "1     https://wuzzuf.net/jobs/careers/Arrow Digital ...  \n",
       "2        https://wuzzuf.net/jobs/careers/co-Egypt-33542  \n",
       "3     https://wuzzuf.net/jobs/careers/Trevor-Sadd-As...  \n",
       "4     https://wuzzuf.net/jobs/careers/Cordoba-for-Re...  \n",
       "...                                                 ...  \n",
       "8530                                               None  \n",
       "8531  https://wuzzuf.net/jobs/careers/Akhnaton-for-T...  \n",
       "8532  https://wuzzuf.net/jobs/careers/CROCOSOFT-Egyp...  \n",
       "8533  https://wuzzuf.net/jobs/careers/Giza-Systems-E...  \n",
       "8534  https://wuzzuf.net/jobs/careers/Giza-Systems-E...  \n",
       "\n",
       "[8535 rows x 7 columns]"
      ]
     },
     "execution_count": 5,
     "metadata": {},
     "output_type": "execute_result"
    }
   ],
   "source": [
    "import pandas as pd\n",
    "a=pd.DataFrame(job,columns=[\"Job Title\"])\n",
    "b=pd.DataFrame(company,columns=[\"Company Name\"])\n",
    "c=pd.DataFrame(address,columns=[\"Address\"])\n",
    "d=pd.DataFrame(skills,columns=[\"Skills\"])\n",
    "e=pd.DataFrame(job_type,columns=[\"Job Type\"])\n",
    "f=pd.DataFrame(job_link,columns=[\"Job URL\"])\n",
    "g=pd.DataFrame(company_url,columns=[\"Company URL\"])\n",
    "df=pd.concat([a,b,c,d,e,f,g],axis=1)\n",
    "df"
   ]
  },
  {
   "cell_type": "code",
   "execution_count": null,
   "id": "9862dcda",
   "metadata": {},
   "outputs": [],
   "source": [
    "   "
   ]
  },
  {
   "cell_type": "code",
   "execution_count": 6,
   "id": "f9477669",
   "metadata": {},
   "outputs": [
    {
     "data": {
      "text/plain": [
       "0       Full TimeEntry Level · 1 - 2 Yrs of Exp · Huma...\n",
       "1       Full TimeManager · 5 - 7 Yrs of Exp · Business...\n",
       "2       Part TimeFreelance / ProjectExperienced · 5 - ...\n",
       "3       Full TimeFreelance / ProjectWork From HomeEntr...\n",
       "4       Full TimeExperienced · 3 - 5 Yrs of Exp · Acco...\n",
       "                              ...                        \n",
       "8530    Full TimeManager · 6 - 15 Yrs of Exp · Logisti...\n",
       "8531    Full TimeEntry Level · 0 - 2 Yrs of Exp · Sale...\n",
       "8532    Full TimeWork From HomeExperienced · 2 - 7 Yrs...\n",
       "8533    Full TimeManager · 15+ Yrs of Exp · IT/Softwar...\n",
       "8534    Full TimeExperienced · 7+ Yrs of Exp · IT/Soft...\n",
       "Name: Skills, Length: 8535, dtype: object"
      ]
     },
     "execution_count": 6,
     "metadata": {},
     "output_type": "execute_result"
    }
   ],
   "source": [
    "df['Skills']"
   ]
  },
  {
   "cell_type": "code",
   "execution_count": null,
   "id": "0ccfe2e7",
   "metadata": {},
   "outputs": [],
   "source": []
  },
  {
   "cell_type": "code",
   "execution_count": 7,
   "id": "e39f1e7a",
   "metadata": {},
   "outputs": [
    {
     "data": {
      "text/plain": [
       "'Full TimeEntry Level · 1 - 2 Yrs of Exp · Human Resources · HR · Mass Hiring · Human Resources (HR) · Recruitment'"
      ]
     },
     "execution_count": 7,
     "metadata": {},
     "output_type": "execute_result"
    }
   ],
   "source": [
    "df['Skills'][0]"
   ]
  },
  {
   "cell_type": "code",
   "execution_count": 8,
   "id": "70cc735b",
   "metadata": {},
   "outputs": [
    {
     "data": {
      "text/html": [
       "<div>\n",
       "<style scoped>\n",
       "    .dataframe tbody tr th:only-of-type {\n",
       "        vertical-align: middle;\n",
       "    }\n",
       "\n",
       "    .dataframe tbody tr th {\n",
       "        vertical-align: top;\n",
       "    }\n",
       "\n",
       "    .dataframe thead th {\n",
       "        text-align: right;\n",
       "    }\n",
       "</style>\n",
       "<table border=\"1\" class=\"dataframe\">\n",
       "  <thead>\n",
       "    <tr style=\"text-align: right;\">\n",
       "      <th></th>\n",
       "      <th>Job Title</th>\n",
       "      <th>Company Name</th>\n",
       "      <th>Address</th>\n",
       "      <th>Skills</th>\n",
       "      <th>Job Type</th>\n",
       "      <th>Job URL</th>\n",
       "      <th>Company URL</th>\n",
       "    </tr>\n",
       "  </thead>\n",
       "  <tbody>\n",
       "    <tr>\n",
       "      <th>0</th>\n",
       "      <td>Recruitment Specialist (Mass Hiring)</td>\n",
       "      <td>Etisalat Egypt -</td>\n",
       "      <td>Maadi, Cairo, Egypt</td>\n",
       "      <td>Entry Level · 1 - 2 Yrs of Exp · Human Resourc...</td>\n",
       "      <td>Full Time</td>\n",
       "      <td>https://wuzzuf.net/jobs/p/8ZDXtmNipWv7-Recruit...</td>\n",
       "      <td>https://wuzzuf.net/jobs/careers/Etisalat-Misr-...</td>\n",
       "    </tr>\n",
       "    <tr>\n",
       "      <th>1</th>\n",
       "      <td>Entry Level</td>\n",
       "      <td>Arrow Digital Transformation -</td>\n",
       "      <td>Nasr City, Cairo, Egypt</td>\n",
       "      <td>Manager · 5 - 7 Yrs of Exp · Business Developm...</td>\n",
       "      <td>Full Time</td>\n",
       "      <td>https://wuzzuf.net/jobs/p/pf8pXQ425AUM-Digital...</td>\n",
       "      <td>https://wuzzuf.net/jobs/careers/Arrow Digital ...</td>\n",
       "    </tr>\n",
       "    <tr>\n",
       "      <th>2</th>\n",
       "      <td>· Human Resources</td>\n",
       "      <td>Turning Point for Consultancies and Development -</td>\n",
       "      <td>Cairo, Egypt</td>\n",
       "      <td>Part TimeFreelance / ProjectExperienced · 5 - ...</td>\n",
       "      <td>Part Time</td>\n",
       "      <td>https://wuzzuf.net/jobs/p/z6hCJ1gCFeKs-Micro-F...</td>\n",
       "      <td>https://wuzzuf.net/jobs/careers/co-Egypt-33542</td>\n",
       "    </tr>\n",
       "    <tr>\n",
       "      <th>3</th>\n",
       "      <td>Digital Transformation Sales Manager</td>\n",
       "      <td>Trevor Sadd Associates -</td>\n",
       "      <td>Cairo, Egypt</td>\n",
       "      <td>Freelance / ProjectWork From HomeEntry Level ·...</td>\n",
       "      <td>Freelance / Project</td>\n",
       "      <td>https://wuzzuf.net/jobs/p/Zm9mKXt1NVWs-Process...</td>\n",
       "      <td>https://wuzzuf.net/jobs/careers/Trevor-Sadd-As...</td>\n",
       "    </tr>\n",
       "    <tr>\n",
       "      <th>4</th>\n",
       "      <td>Manager</td>\n",
       "      <td>HTH -</td>\n",
       "      <td>Heliopolis, Cairo, Egypt</td>\n",
       "      <td>Experienced · 3 - 5 Yrs of Exp · Accounting/Fi...</td>\n",
       "      <td>Full Time</td>\n",
       "      <td>https://wuzzuf.net/jobs/p/rr7nr0rgkWhN-Tax-Pro...</td>\n",
       "      <td>https://wuzzuf.net/jobs/careers/Cordoba-for-Re...</td>\n",
       "    </tr>\n",
       "    <tr>\n",
       "      <th>...</th>\n",
       "      <td>...</td>\n",
       "      <td>...</td>\n",
       "      <td>...</td>\n",
       "      <td>...</td>\n",
       "      <td>...</td>\n",
       "      <td>...</td>\n",
       "      <td>...</td>\n",
       "    </tr>\n",
       "    <tr>\n",
       "      <th>8530</th>\n",
       "      <td>IT Specialist</td>\n",
       "      <td>Confidential -</td>\n",
       "      <td>Nasr City, Cairo, Egypt</td>\n",
       "      <td>Manager · 6 - 15 Yrs of Exp · Logistics/Supply...</td>\n",
       "      <td>Full Time</td>\n",
       "      <td>https://wuzzuf.net/jobs/p/Squ8jaA9zcca-Operati...</td>\n",
       "      <td>None</td>\n",
       "    </tr>\n",
       "    <tr>\n",
       "      <th>8531</th>\n",
       "      <td>Experienced</td>\n",
       "      <td>Akhnaton for Trading &amp; Distributing  -</td>\n",
       "      <td>Cairo, Egypt</td>\n",
       "      <td>Entry Level · 0 - 2 Yrs of Exp · Sales/Retail ...</td>\n",
       "      <td>Full Time</td>\n",
       "      <td>https://wuzzuf.net/jobs/p/dCMcyOaTaeh4-Sales-D...</td>\n",
       "      <td>https://wuzzuf.net/jobs/careers/Akhnaton-for-T...</td>\n",
       "    </tr>\n",
       "    <tr>\n",
       "      <th>8532</th>\n",
       "      <td>· Installation/Maintenance/Repair</td>\n",
       "      <td>CROCOSOFT -</td>\n",
       "      <td>New Cairo, Cairo, Egypt</td>\n",
       "      <td>Work From HomeExperienced · 2 - 7 Yrs of Exp ·...</td>\n",
       "      <td>Full Time</td>\n",
       "      <td>https://wuzzuf.net/jobs/p/uMtkocYzGZey-Senior-...</td>\n",
       "      <td>https://wuzzuf.net/jobs/careers/CROCOSOFT-Egyp...</td>\n",
       "    </tr>\n",
       "    <tr>\n",
       "      <th>8533</th>\n",
       "      <td>· IT/Software Development</td>\n",
       "      <td>Giza Systems -</td>\n",
       "      <td>Cairo, Egypt</td>\n",
       "      <td>Manager · 15+ Yrs of Exp · IT/Software Develop...</td>\n",
       "      <td>Full Time</td>\n",
       "      <td>https://wuzzuf.net/jobs/p/BLclT1RZCy6L-DX-Prog...</td>\n",
       "      <td>https://wuzzuf.net/jobs/careers/Giza-Systems-E...</td>\n",
       "    </tr>\n",
       "    <tr>\n",
       "      <th>8534</th>\n",
       "      <td>· Engineering - Telecom/Technology</td>\n",
       "      <td>Giza Systems -</td>\n",
       "      <td>Cairo, Egypt</td>\n",
       "      <td>Experienced · 7+ Yrs of Exp · IT/Software Deve...</td>\n",
       "      <td>Work From Home</td>\n",
       "      <td>https://wuzzuf.net/jobs/p/UHYvAj1At0wm-Senior-...</td>\n",
       "      <td>https://wuzzuf.net/jobs/careers/Giza-Systems-E...</td>\n",
       "    </tr>\n",
       "  </tbody>\n",
       "</table>\n",
       "<p>8535 rows × 7 columns</p>\n",
       "</div>"
      ],
      "text/plain": [
       "                                 Job Title  \\\n",
       "0     Recruitment Specialist (Mass Hiring)   \n",
       "1                              Entry Level   \n",
       "2                        · Human Resources   \n",
       "3     Digital Transformation Sales Manager   \n",
       "4                                  Manager   \n",
       "...                                    ...   \n",
       "8530                         IT Specialist   \n",
       "8531                           Experienced   \n",
       "8532     · Installation/Maintenance/Repair   \n",
       "8533             · IT/Software Development   \n",
       "8534    · Engineering - Telecom/Technology   \n",
       "\n",
       "                                           Company Name  \\\n",
       "0                                      Etisalat Egypt -   \n",
       "1                        Arrow Digital Transformation -   \n",
       "2     Turning Point for Consultancies and Development -   \n",
       "3                              Trevor Sadd Associates -   \n",
       "4                                                 HTH -   \n",
       "...                                                 ...   \n",
       "8530                                     Confidential -   \n",
       "8531             Akhnaton for Trading & Distributing  -   \n",
       "8532                                        CROCOSOFT -   \n",
       "8533                                     Giza Systems -   \n",
       "8534                                     Giza Systems -   \n",
       "\n",
       "                        Address  \\\n",
       "0          Maadi, Cairo, Egypt    \n",
       "1      Nasr City, Cairo, Egypt    \n",
       "2                 Cairo, Egypt    \n",
       "3                 Cairo, Egypt    \n",
       "4     Heliopolis, Cairo, Egypt    \n",
       "...                         ...   \n",
       "8530   Nasr City, Cairo, Egypt    \n",
       "8531              Cairo, Egypt    \n",
       "8532   New Cairo, Cairo, Egypt    \n",
       "8533              Cairo, Egypt    \n",
       "8534              Cairo, Egypt    \n",
       "\n",
       "                                                 Skills             Job Type  \\\n",
       "0     Entry Level · 1 - 2 Yrs of Exp · Human Resourc...            Full Time   \n",
       "1     Manager · 5 - 7 Yrs of Exp · Business Developm...            Full Time   \n",
       "2     Part TimeFreelance / ProjectExperienced · 5 - ...            Part Time   \n",
       "3     Freelance / ProjectWork From HomeEntry Level ·...  Freelance / Project   \n",
       "4     Experienced · 3 - 5 Yrs of Exp · Accounting/Fi...            Full Time   \n",
       "...                                                 ...                  ...   \n",
       "8530  Manager · 6 - 15 Yrs of Exp · Logistics/Supply...            Full Time   \n",
       "8531  Entry Level · 0 - 2 Yrs of Exp · Sales/Retail ...            Full Time   \n",
       "8532  Work From HomeExperienced · 2 - 7 Yrs of Exp ·...            Full Time   \n",
       "8533  Manager · 15+ Yrs of Exp · IT/Software Develop...            Full Time   \n",
       "8534  Experienced · 7+ Yrs of Exp · IT/Software Deve...       Work From Home   \n",
       "\n",
       "                                                Job URL  \\\n",
       "0     https://wuzzuf.net/jobs/p/8ZDXtmNipWv7-Recruit...   \n",
       "1     https://wuzzuf.net/jobs/p/pf8pXQ425AUM-Digital...   \n",
       "2     https://wuzzuf.net/jobs/p/z6hCJ1gCFeKs-Micro-F...   \n",
       "3     https://wuzzuf.net/jobs/p/Zm9mKXt1NVWs-Process...   \n",
       "4     https://wuzzuf.net/jobs/p/rr7nr0rgkWhN-Tax-Pro...   \n",
       "...                                                 ...   \n",
       "8530  https://wuzzuf.net/jobs/p/Squ8jaA9zcca-Operati...   \n",
       "8531  https://wuzzuf.net/jobs/p/dCMcyOaTaeh4-Sales-D...   \n",
       "8532  https://wuzzuf.net/jobs/p/uMtkocYzGZey-Senior-...   \n",
       "8533  https://wuzzuf.net/jobs/p/BLclT1RZCy6L-DX-Prog...   \n",
       "8534  https://wuzzuf.net/jobs/p/UHYvAj1At0wm-Senior-...   \n",
       "\n",
       "                                            Company URL  \n",
       "0     https://wuzzuf.net/jobs/careers/Etisalat-Misr-...  \n",
       "1     https://wuzzuf.net/jobs/careers/Arrow Digital ...  \n",
       "2        https://wuzzuf.net/jobs/careers/co-Egypt-33542  \n",
       "3     https://wuzzuf.net/jobs/careers/Trevor-Sadd-As...  \n",
       "4     https://wuzzuf.net/jobs/careers/Cordoba-for-Re...  \n",
       "...                                                 ...  \n",
       "8530                                               None  \n",
       "8531  https://wuzzuf.net/jobs/careers/Akhnaton-for-T...  \n",
       "8532  https://wuzzuf.net/jobs/careers/CROCOSOFT-Egyp...  \n",
       "8533  https://wuzzuf.net/jobs/careers/Giza-Systems-E...  \n",
       "8534  https://wuzzuf.net/jobs/careers/Giza-Systems-E...  \n",
       "\n",
       "[8535 rows x 7 columns]"
      ]
     },
     "execution_count": 8,
     "metadata": {},
     "output_type": "execute_result"
    }
   ],
   "source": [
    "df['Skills']=df['Skills'].apply(lambda x:x.replace('Full Time',''))\n",
    "df"
   ]
  },
  {
   "cell_type": "code",
   "execution_count": 125,
   "id": "3802d8a9",
   "metadata": {},
   "outputs": [],
   "source": []
  },
  {
   "cell_type": "code",
   "execution_count": 19,
   "id": "e455a2a6",
   "metadata": {},
   "outputs": [
    {
     "name": "stdout",
     "output_type": "stream",
     "text": [
      "<class 'pandas.core.frame.DataFrame'>\n",
      "RangeIndex: 8535 entries, 0 to 8534\n",
      "Data columns (total 7 columns):\n",
      " #   Column        Non-Null Count  Dtype \n",
      "---  ------        --------------  ----- \n",
      " 0   Job Title     8535 non-null   object\n",
      " 1   Company Name  8535 non-null   object\n",
      " 2   Address       8535 non-null   object\n",
      " 3   Skills        8535 non-null   object\n",
      " 4   Job Type      8535 non-null   object\n",
      " 5   Job URL       8535 non-null   object\n",
      " 6   Company URL   7253 non-null   object\n",
      "dtypes: object(7)\n",
      "memory usage: 466.9+ KB\n"
     ]
    }
   ],
   "source": [
    "df.info()"
   ]
  },
  {
   "cell_type": "code",
   "execution_count": null,
   "id": "cc30bade",
   "metadata": {},
   "outputs": [],
   "source": []
  },
  {
   "cell_type": "code",
   "execution_count": null,
   "id": "2a89ee0c",
   "metadata": {},
   "outputs": [],
   "source": [
    "\n"
   ]
  },
  {
   "cell_type": "code",
   "execution_count": 9,
   "id": "1f08375b",
   "metadata": {},
   "outputs": [
    {
     "data": {
      "text/html": [
       "<div>\n",
       "<style scoped>\n",
       "    .dataframe tbody tr th:only-of-type {\n",
       "        vertical-align: middle;\n",
       "    }\n",
       "\n",
       "    .dataframe tbody tr th {\n",
       "        vertical-align: top;\n",
       "    }\n",
       "\n",
       "    .dataframe thead th {\n",
       "        text-align: right;\n",
       "    }\n",
       "</style>\n",
       "<table border=\"1\" class=\"dataframe\">\n",
       "  <thead>\n",
       "    <tr style=\"text-align: right;\">\n",
       "      <th></th>\n",
       "      <th>Job Title</th>\n",
       "      <th>Company Name</th>\n",
       "      <th>Address</th>\n",
       "      <th>Skills</th>\n",
       "      <th>Job Type</th>\n",
       "      <th>Job URL</th>\n",
       "      <th>Company URL</th>\n",
       "    </tr>\n",
       "  </thead>\n",
       "  <tbody>\n",
       "    <tr>\n",
       "      <th>3000</th>\n",
       "      <td>Data Scientist</td>\n",
       "      <td>Confidential -</td>\n",
       "      <td>Riyadh, Saudi Arabia</td>\n",
       "      <td>Experienced · 2 - 4 Yrs of Exp · IT/Software D...</td>\n",
       "      <td>Full Time</td>\n",
       "      <td>https://wuzzuf.net/jobs/p/OjuPwsoJjnOC-Data-Sc...</td>\n",
       "      <td>None</td>\n",
       "    </tr>\n",
       "  </tbody>\n",
       "</table>\n",
       "</div>"
      ],
      "text/plain": [
       "           Job Title    Company Name                Address  \\\n",
       "3000  Data Scientist  Confidential -  Riyadh, Saudi Arabia    \n",
       "\n",
       "                                                 Skills   Job Type  \\\n",
       "3000  Experienced · 2 - 4 Yrs of Exp · IT/Software D...  Full Time   \n",
       "\n",
       "                                                Job URL Company URL  \n",
       "3000  https://wuzzuf.net/jobs/p/OjuPwsoJjnOC-Data-Sc...        None  "
      ]
     },
     "execution_count": 9,
     "metadata": {},
     "output_type": "execute_result"
    }
   ],
   "source": [
    "df[df[\"Job Title\"].apply(lambda job: job == \"Data Scientist\")].head()\n"
   ]
  },
  {
   "cell_type": "code",
   "execution_count": null,
   "id": "eebbdabf",
   "metadata": {},
   "outputs": [],
   "source": []
  },
  {
   "cell_type": "code",
   "execution_count": 44,
   "id": "713c03a1",
   "metadata": {},
   "outputs": [
    {
     "data": {
      "text/plain": [
       "5324"
      ]
     },
     "execution_count": 44,
     "metadata": {},
     "output_type": "execute_result"
    }
   ],
   "source": [
    "cairo=df[df.Address.str.contains('Cairo')]\n",
    "len(cairo)"
   ]
  },
  {
   "cell_type": "code",
   "execution_count": 45,
   "id": "e991e63b",
   "metadata": {},
   "outputs": [
    {
     "data": {
      "text/plain": [
       "1944"
      ]
     },
     "execution_count": 45,
     "metadata": {},
     "output_type": "execute_result"
    }
   ],
   "source": [
    "giza=df[df.Address.str.contains('Giza')]\n",
    "len(giza)"
   ]
  },
  {
   "cell_type": "code",
   "execution_count": 63,
   "id": "131ecfb2",
   "metadata": {},
   "outputs": [
    {
     "data": {
      "text/plain": [
       "489"
      ]
     },
     "execution_count": 63,
     "metadata": {},
     "output_type": "execute_result"
    }
   ],
   "source": [
    "Alexandria=df[df.Address.str.contains('Alexandria')]\n",
    "len(Alexandria)"
   ]
  },
  {
   "cell_type": "code",
   "execution_count": 65,
   "id": "c38e4723",
   "metadata": {},
   "outputs": [
    {
     "data": {
      "text/plain": [
       "778"
      ]
     },
     "execution_count": 65,
     "metadata": {},
     "output_type": "execute_result"
    }
   ],
   "source": [
    "others=df[~df.Address.str.contains('Cairo') &~df.Address.str.contains('Giza')&~df.Address.str.contains('Alexandria') ]\n",
    "len(others)\n"
   ]
  },
  {
   "cell_type": "code",
   "execution_count": 110,
   "id": "dee4ea9c",
   "metadata": {},
   "outputs": [],
   "source": [
    "job_address_count={'Cairo': len(cairo),'Giza':len(giza),'Alexandria':len(Alexandria),'Others':len(others)}"
   ]
  },
  {
   "cell_type": "code",
   "execution_count": 117,
   "id": "9a4ced59",
   "metadata": {},
   "outputs": [
    {
     "data": {
      "image/png": "[encoded data removed]",
      "text/plain": [
       "<Figure size 576x432 with 1 Axes>"
      ]
     },
     "metadata": {
      "needs_background": "light"
     },
     "output_type": "display_data"
    }
   ],
   "source": [
    "import matplotlib.pyplot as plt\n",
    "names = list(job_address_count.keys())\n",
    "values = list(job_address_count.values())\n",
    "plt.figure(figsize=(8,6))\n",
    "plt.bar(range(len(job_address_count)), values, tick_label=names,color='orange')\n",
    "plt.title('No.of Jobs per Governorate ')\n",
    "plt.xlabel('Governorate')\n",
    "plt.ylabel('No.of Jobs')\n",
    "plt.tick_params(axis='x', labelsize=15)\n",
    "plt.show()"
   ]
  },
  {
   "cell_type": "code",
   "execution_count": 141,
   "id": "5f6bb3ff",
   "metadata": {},
   "outputs": [
    {
     "data": {
      "image/png": "[encoded data removed]",
      "text/plain": [
       "<Figure size 432x288 with 1 Axes>"
      ]
     },
     "metadata": {},
     "output_type": "display_data"
    },
    {
     "data": {
      "text/plain": [
       "<Figure size 864x576 with 0 Axes>"
      ]
     },
     "metadata": {},
     "output_type": "display_data"
    }
   ],
   "source": [
    "wp = { 'linewidth' : 1, 'edgecolor' : \"green\" }\n",
    "explode = (0.1, 0.0, 0.2, 0.3)\n",
    "colors = ( \"brown\",\"grey\", \"cyan\", \"beige\")\n",
    "plt.pie(values,labels=names,colors=colors,shadow = True,wedgeprops = wp,startangle = 90,explode=explode)\n",
    "plt.figure(figsize=(12,8))\n",
    "plt.show()"
   ]
  },
  {
   "cell_type": "code",
   "execution_count": 98,
   "id": "fecb8248",
   "metadata": {},
   "outputs": [
    {
     "data": {
      "text/plain": [
       "Full Time              7759\n",
       "Work From Home          302\n",
       "Part Time               168\n",
       "Freelance / Project     116\n",
       "Internship              115\n",
       "Shift Based              70\n",
       "Volunteering              5\n",
       "Name: Job Type, dtype: int64"
      ]
     },
     "execution_count": 98,
     "metadata": {},
     "output_type": "execute_result"
    }
   ],
   "source": [
    "df[\"Job Type\"].value_counts()"
   ]
  },
  {
   "cell_type": "code",
   "execution_count": 99,
   "id": "14123fd7",
   "metadata": {},
   "outputs": [
    {
     "data": {
      "text/plain": [
       "<AxesSubplot:>"
      ]
     },
     "execution_count": 99,
     "metadata": {},
     "output_type": "execute_result"
    },
    {
     "data": {
      "image/png": "[encoded data removed]",
      "text/plain": [
       "<Figure size 576x432 with 1 Axes>"
      ]
     },
     "metadata": {
      "needs_background": "light"
     },
     "output_type": "display_data"
    }
   ],
   "source": [
    "df[\"Job Type\"].value_counts().plot.bar(figsize=(8,6))"
   ]
  },
  {
   "cell_type": "code",
   "execution_count": 14,
   "id": "87a32cae",
   "metadata": {},
   "outputs": [
    {
     "data": {
      "text/plain": [
       "0            Maadi, Cairo, Egypt \n",
       "1        Nasr City, Cairo, Egypt \n",
       "2                   Cairo, Egypt \n",
       "3                   Cairo, Egypt \n",
       "4       Heliopolis, Cairo, Egypt \n",
       "                  ...            \n",
       "8530     Nasr City, Cairo, Egypt \n",
       "8531                Cairo, Egypt \n",
       "8532     New Cairo, Cairo, Egypt \n",
       "8533                Cairo, Egypt \n",
       "8534                Cairo, Egypt \n",
       "Name: Address, Length: 8535, dtype: object"
      ]
     },
     "execution_count": 14,
     "metadata": {},
     "output_type": "execute_result"
    }
   ],
   "source": [
    "df['Address']"
   ]
  },
  {
   "cell_type": "code",
   "execution_count": null,
   "id": "5638ae97",
   "metadata": {},
   "outputs": [],
   "source": [
    "      "
   ]
  },
  {
   "cell_type": "code",
   "execution_count": null,
   "id": "4fa3ca80",
   "metadata": {},
   "outputs": [],
   "source": []
  },
  {
   "cell_type": "code",
   "execution_count": 59,
   "id": "cd337e7c",
   "metadata": {},
   "outputs": [],
   "source": [
    "def check_cities(city):\n",
    "    count=0\n",
    "    for i in df['Address']:\n",
    "        if city in i:\n",
    "            count+=1\n",
    "    return count"
   ]
  },
  {
   "cell_type": "code",
   "execution_count": 61,
   "id": "7f5c20e8",
   "metadata": {},
   "outputs": [
    {
     "name": "stdout",
     "output_type": "stream",
     "text": [
      "489\n"
     ]
    }
   ],
   "source": [
    "print(check_cities('Alexandria'))"
   ]
  },
  {
   "cell_type": "code",
   "execution_count": 30,
   "id": "201da1d1",
   "metadata": {},
   "outputs": [],
   "source": [
    "def check_jobs(job):\n",
    "    count=0\n",
    "    for i in df['Job Title']:\n",
    "        if job in i:\n",
    "            count+=1\n",
    "            print(i)\n",
    "    return count"
   ]
  },
  {
   "cell_type": "code",
   "execution_count": 31,
   "id": "584c7761",
   "metadata": {},
   "outputs": [
    {
     "name": "stdout",
     "output_type": "stream",
     "text": [
      "Accountant and Data Entry\n",
      "Data Governance and Compliance Consultant\n",
      "Project Manager - Data Networks (ICT)\n",
      "Senior Database /BI Developer\n",
      "Network & Data Engineer -Second Line Support\n",
      "Data Entry Specialist - Digital Marketing\n",
      "Data Entry\n",
      "Claims and Data Entry Specialist\n",
      "Data Analyst\n",
      "Technical Office Engineer (Data Center)\n",
      "Data Scientist\n",
      "Data Analyst\n",
      "Data Entry Specialist\n",
      "E-Commerce Specialist / Product Data Entry\n",
      "Data Engineer - KSA\n",
      "Data Entry Clerk\n",
      "Junior Data Analyst\n",
      "Dr's Assistant & Electronic Medical Records Data Entry\n",
      "Data Analyst\n",
      "Junior Data Quality Engineer\n",
      "Senior Data Engineer\n",
      "SQL Database Administrator\n",
      "Senior Data Engineer\n",
      "Senior Data Engineer\n",
      "Senior Database Security Engineer\n",
      "Business Data Analyst\n",
      "Junior Data Processor\n",
      "Data Analyst\n",
      "28\n"
     ]
    }
   ],
   "source": [
    "print(check_jobs('Data'))"
   ]
  },
  {
   "cell_type": "code",
   "execution_count": null,
   "id": "6c818973",
   "metadata": {},
   "outputs": [],
   "source": []
  },
  {
   "cell_type": "code",
   "execution_count": null,
   "id": "56a6f90c",
   "metadata": {},
   "outputs": [],
   "source": []
  },
  {
   "cell_type": "code",
   "execution_count": null,
   "id": "64195993",
   "metadata": {},
   "outputs": [],
   "source": []
  },
  {
   "cell_type": "code",
   "execution_count": 157,
   "id": "7c8ab53e",
   "metadata": {},
   "outputs": [
    {
     "name": "stdout",
     "output_type": "stream",
     "text": [
      "<class 'pandas.core.frame.DataFrame'>\n",
      "RangeIndex: 8833 entries, 0 to 8832\n",
      "Data columns (total 7 columns):\n",
      " #   Column        Non-Null Count  Dtype \n",
      "---  ------        --------------  ----- \n",
      " 0   Job Title     8831 non-null   object\n",
      " 1   Company Name  8831 non-null   object\n",
      " 2   Address       8831 non-null   object\n",
      " 3   Skills        8831 non-null   object\n",
      " 4   Job Type      8831 non-null   object\n",
      " 5   Job URL       8833 non-null   object\n",
      " 6   Company URL   7496 non-null   object\n",
      "dtypes: object(7)\n",
      "memory usage: 483.2+ KB\n"
     ]
    }
   ],
   "source": []
  },
  {
   "cell_type": "code",
   "execution_count": null,
   "id": "ed5a5324",
   "metadata": {},
   "outputs": [],
   "source": []
  }
 ],
 "metadata": {
  "kernelspec": {
   "display_name": "Python 3 (ipykernel)",
   "language": "python",
   "name": "python3"
  },
  "language_info": {
   "codemirror_mode": {
    "name": "ipython",
    "version": 3
   },
   "file_extension": ".py",
   "mimetype": "text/x-python",
   "name": "python",
   "nbconvert_exporter": "python",
   "pygments_lexer": "ipython3",
   "version": "3.9.7"
  }
 },
 "nbformat": 4,
 "nbformat_minor": 5
}
